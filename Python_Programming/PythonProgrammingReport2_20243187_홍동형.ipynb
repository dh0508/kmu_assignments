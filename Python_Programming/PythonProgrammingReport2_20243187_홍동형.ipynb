{
 "cells": [
  {
   "metadata": {},
   "cell_type": "markdown",
   "source": [
    "# Pyrhon Programming 보고서 #2\n",
    "### 소프트웨어학부 20243187 홍동형"
   ],
   "id": "a69a8ee17ed5851d"
  },
  {
   "metadata": {},
   "cell_type": "markdown",
   "source": "## 1번",
   "id": "abfad41071a3eed8"
  },
  {
   "metadata": {
    "ExecuteTime": {
     "end_time": "2025-04-08T04:39:38.529975Z",
     "start_time": "2025-04-08T04:39:32.698430Z"
    }
   },
   "cell_type": "code",
   "source": [
    "print(\"4개의 정수를 입력하세요...\") # 안내문구 출력\n",
    "a = int(input(\"a: \")) # 첫 번째 정수 입력\n",
    "max = a # 첫 번째 정수를 최댓값으로 설정\n",
    "b = int(input(\"b: \")) # 두 번째 정수 입력\n",
    "if b > max: # b가 현재 최댓값보다 크면\n",
    "    max = b # 최댓값을 b로 갱신\n",
    "c = int(input(\"c: \")) # 세 번째 정수 입력\n",
    "if c > max: # c가 현재 최댓값보다 크면\n",
    "    max = c # 최댓값을 c로 갱신\n",
    "d = int(input(\"d: \")) # 네 번째 정수 입력\n",
    "if d > max: # d가 현재 최댓값보다 크면\n",
    "    max = d # 최댓값을 d로 갱신\n",
    "print(f\"최댓값: {max}\") # 최댓값 출력"
   ],
   "id": "d75a3db6edc9c79b",
   "outputs": [
    {
     "name": "stdout",
     "output_type": "stream",
     "text": [
      "4개의 정수를 입력하세요...\n",
      "최댓값: 4\n"
     ]
    }
   ],
   "execution_count": 2
  },
  {
   "metadata": {
    "ExecuteTime": {
     "end_time": "2025-04-08T04:39:51.911412Z",
     "start_time": "2025-04-08T04:39:45.937674Z"
    }
   },
   "cell_type": "code",
   "source": [
    "print(\"4개의 정수를 입력하세요...\") # 안내문구 출력\n",
    "l = [] # 리스트 생성\n",
    "l.append(int(input(\"sList[0]: \"))) # 정수 입력, 리스트에 추가\n",
    "l.append(int(input(\"sList[1]: \"))) # 정수 입력, 리스트에 추가\n",
    "l.append(int(input(\"sList[2]: \"))) # 정수 입력, 리스트에 추가\n",
    "l.append(int(input(\"sList[3]: \"))) # 정수 입력, 리스트에 추가\n",
    "max = l[0] # 첫 번째 요소를 최댓값으로 설정\n",
    "for i in range(1, 4): # 두 번째 요소부터 네 번째 요소까지 반복\n",
    "    if max < l[i]: # 현재 최댓값보다 크면\n",
    "        max = l[i] # 최댓값 갱신\n",
    "print(f\"최댓값: {max}\") # 최댓값 출력"
   ],
   "id": "949c18e4f705a812",
   "outputs": [
    {
     "name": "stdout",
     "output_type": "stream",
     "text": [
      "4개의 정수를 입력하세요...\n",
      "최댓값: 4\n"
     ]
    }
   ],
   "execution_count": 3
  },
  {
   "metadata": {},
   "cell_type": "markdown",
   "source": [
    "모든 조건을 사용하지 않고 max라는 변수를 지정해 한 값마다 비교해주면 보다 효율적으로 코드를 작성할 수 있다.\n",
    "리스트에 입력을 받으면 이러한 연산을 한번에 진행해도 되므로 반복문도 사용 가능하다."
   ],
   "id": "80a1dfdf811cf44e"
  },
  {
   "metadata": {},
   "cell_type": "markdown",
   "source": "# 2번",
   "id": "ee93342b4ffbd157"
  },
  {
   "metadata": {
    "ExecuteTime": {
     "end_time": "2025-04-08T04:46:35.569674Z",
     "start_time": "2025-04-08T04:46:32.406889Z"
    }
   },
   "cell_type": "code",
   "source": [
    "y = int(input(\"년도를 입력하세요: \")) # 연도 입력\n",
    "if y % 400 == 0: # 400으로 나누어 떨어지면\n",
    "    print(f\"{y}년은 윤년입니다.\") # 윤년 출력\n",
    "else:\n",
    "    if y % 100 == 0: # 100으로 나누어 떨어지면\n",
    "        print(f\"{y}년은 평년입니다.\") # 평년 출력\n",
    "    else:\n",
    "        if y % 4 == 0: # 4로 나누어 떨어지면\n",
    "            print(f\"{y}년은 윤년입니다.\") # 윤년 출력\n",
    "        else:\n",
    "            print(f\"{y}년은 평년입니다.\") # 평년 출력"
   ],
   "id": "d85547b67cfe7a78",
   "outputs": [
    {
     "name": "stdout",
     "output_type": "stream",
     "text": [
      "2023년은 평년입니다.\n"
     ]
    }
   ],
   "execution_count": 15
  },
  {
   "metadata": {
    "ExecuteTime": {
     "end_time": "2025-04-08T04:46:18.636844Z",
     "start_time": "2025-04-08T04:46:17.196471Z"
    }
   },
   "cell_type": "code",
   "source": [
    "y = int(input(\"년도를 입력하세요: \")) # 연도 입력\n",
    "if y % 400 == 0: # 400으로 나누어 떨어지면\n",
    "    print(f\"{y}년은 윤년입니다.\") # 윤년 출력\n",
    "elif y % 100 == 0: # 100으로 나누어 떨어지면\n",
    "    print(f\"{y}년은 평년입니다.\") # 평년 출력\n",
    "elif y % 4 == 0: # 4로 나누어 떨어지면\n",
    "    print(f\"{y}년은 윤년입니다.\") # 윤년 출력\n",
    "else:\n",
    "    print(f\"{y}년은 평년입니다.\") # 평년 출력\n"
   ],
   "id": "b9dc9fe52455448d",
   "outputs": [
    {
     "name": "stdout",
     "output_type": "stream",
     "text": [
      "400년은 윤년입니다.\n"
     ]
    }
   ],
   "execution_count": 13
  },
  {
   "metadata": {},
   "cell_type": "markdown",
   "source": "이중선택을 사용한 코드보다 다중선택을 이용하면 같은 로직을 보다 가독성 있게 작성 가능하다.\n",
   "id": "ecfac93f09b20097"
  },
  {
   "metadata": {},
   "cell_type": "markdown",
   "source": "# 3번",
   "id": "d4fc99ef4041a560"
  },
  {
   "metadata": {
    "ExecuteTime": {
     "end_time": "2025-04-07T08:34:35.884183Z",
     "start_time": "2025-04-07T08:34:35.870233Z"
    }
   },
   "cell_type": "code",
   "outputs": [
    {
     "name": "stdout",
     "output_type": "stream",
     "text": [
      "         ### 구구단 출력 ###\n",
      "1 * 1 = 1        2 * 1 = 2        3 * 1 = 3        \n",
      "\n",
      "1 * 2 = 2        2 * 2 = 4        3 * 2 = 6        \n",
      "\n",
      "1 * 3 = 3        2 * 3 = 6        3 * 3 = 9        \n",
      "\n",
      "1 * 4 = 4        2 * 4 = 8        3 * 4 = 12       \n",
      "\n",
      "1 * 5 = 5        2 * 5 = 10       3 * 5 = 15       \n",
      "\n",
      "1 * 6 = 6        2 * 6 = 12       3 * 6 = 18       \n",
      "\n",
      "1 * 7 = 7        2 * 7 = 14       3 * 7 = 21       \n",
      "\n",
      "1 * 8 = 8        2 * 8 = 16       3 * 8 = 24       \n",
      "\n",
      "1 * 9 = 9        2 * 9 = 18       3 * 9 = 27       \n",
      "\n",
      "\n",
      "\n",
      "4 * 1 = 4        5 * 1 = 5        6 * 1 = 6        \n",
      "\n",
      "4 * 2 = 8        5 * 2 = 10       6 * 2 = 12       \n",
      "\n",
      "4 * 3 = 12       5 * 3 = 15       6 * 3 = 18       \n",
      "\n",
      "4 * 4 = 16       5 * 4 = 20       6 * 4 = 24       \n",
      "\n",
      "4 * 5 = 20       5 * 5 = 25       6 * 5 = 30       \n",
      "\n",
      "4 * 6 = 24       5 * 6 = 30       6 * 6 = 36       \n",
      "\n",
      "4 * 7 = 28       5 * 7 = 35       6 * 7 = 42       \n",
      "\n",
      "4 * 8 = 32       5 * 8 = 40       6 * 8 = 48       \n",
      "\n",
      "4 * 9 = 36       5 * 9 = 45       6 * 9 = 54       \n",
      "\n",
      "\n",
      "\n",
      "7 * 1 = 7        8 * 1 = 8        9 * 1 = 9        \n",
      "\n",
      "7 * 2 = 14       8 * 2 = 16       9 * 2 = 18       \n",
      "\n",
      "7 * 3 = 21       8 * 3 = 24       9 * 3 = 27       \n",
      "\n",
      "7 * 4 = 28       8 * 4 = 32       9 * 4 = 36       \n",
      "\n",
      "7 * 5 = 35       8 * 5 = 40       9 * 5 = 45       \n",
      "\n",
      "7 * 6 = 42       8 * 6 = 48       9 * 6 = 54       \n",
      "\n",
      "7 * 7 = 49       8 * 7 = 56       9 * 7 = 63       \n",
      "\n",
      "7 * 8 = 56       8 * 8 = 64       9 * 8 = 72       \n",
      "\n",
      "7 * 9 = 63       8 * 9 = 72       9 * 9 = 81       \n",
      "\n",
      "\n",
      "\n"
     ]
    }
   ],
   "execution_count": 8,
   "source": [
    "print(\"         ### 구구단 출력 ###\") # 제목 출력\n",
    "for k in range(1, 3+1): # 단 묶음(3씩 끊어서) 반복\n",
    "    for j in range(1, 10): # 각 단의 곱하는 수 1~9까지 반복\n",
    "        for i in range(1 + 3*(k-1), 4 + 3*(k-1)): # 현재 묶음의 단(3개) 반복\n",
    "            print(f'{i} * {j} = {i*j :<2}       ', end='') # 구구단 한 줄 출력 (왼쪽 정렬)\n",
    "        print('\\n') # 한 줄 출력 후 줄바꿈\n",
    "    print('\\n') # 각 단 묶음 사이 줄바꿈"
   ],
   "id": "f3620244cb85ec5e"
  },
  {
   "metadata": {},
   "cell_type": "markdown",
   "source": [
    "단으로 끊기는 부븐, 곱하는 수 두 개를 반복문을 이용해 총 삼중 반복문으로 구현했다.\n",
    "반복문에서 루프변수를 같이쓰게 되면 큰 문제가 생기니 주의하자."
   ],
   "id": "6a25ebfe2d544f37"
  },
  {
   "metadata": {},
   "cell_type": "markdown",
   "source": "# 4번",
   "id": "4e2ec1b6c0817cae"
  },
  {
   "metadata": {
    "ExecuteTime": {
     "end_time": "2025-04-08T04:40:55.337960Z",
     "start_time": "2025-04-08T04:40:53.600823Z"
    }
   },
   "cell_type": "code",
   "source": [
    "n = int(input(\"임의의 정수(1~9) 입력 : \")) # 정수 입력\n",
    "for i in range(1,n+1): # 1부터 n까지 반복\n",
    "    for j in range(1, i+1): # 1부터 i까지 숫자 출력\n",
    "        print(j, end=\"\") # 숫자를 줄바꿈 없이 출력\n",
    "    print('*'*(n-j)) # 남은 칸에 * 출력\n",
    "    print('\\n') # 줄바꿈"
   ],
   "id": "a0f7d444c68a505e",
   "outputs": [
    {
     "name": "stdout",
     "output_type": "stream",
     "text": [
      "1***\n",
      "\n",
      "\n",
      "12**\n",
      "\n",
      "\n",
      "123*\n",
      "\n",
      "\n",
      "1234\n",
      "\n",
      "\n"
     ]
    }
   ],
   "execution_count": 6
  },
  {
   "metadata": {
    "ExecuteTime": {
     "end_time": "2025-04-08T04:40:48.679773Z",
     "start_time": "2025-04-08T04:40:46.859462Z"
    }
   },
   "cell_type": "code",
   "source": [
    "n = int(input(\"임의의 정수(1~9) 입력 : \")) # 정수 입력\n",
    "i = 1 # while문 시작값 설정\n",
    "while i <= n: # i가 n 이하일 동안 반복\n",
    "    j = 1 # while문 시작값 설정\n",
    "    while j <= i: # j가 i 이하일 동안 반복\n",
    "        print(j, end=\"\") # 숫자를 줄바꿈 없이 출력\n",
    "        j += 1 # j 증가\n",
    "    print('*'*(n-j+1)) # 남은 칸에 * 출력\n",
    "    print('\\n') # 줄바꿈\n",
    "    i += 1 # i 증가"
   ],
   "id": "f9939d2a5a5d3c6b",
   "outputs": [
    {
     "name": "stdout",
     "output_type": "stream",
     "text": [
      "1***\n",
      "\n",
      "\n",
      "12**\n",
      "\n",
      "\n",
      "123*\n",
      "\n",
      "\n",
      "1234\n",
      "\n",
      "\n"
     ]
    }
   ],
   "execution_count": 5
  },
  {
   "metadata": {},
   "cell_type": "markdown",
   "source": [
    "이러한 경우에는 굳이 while문으로 구현할 이유가 없다.\n",
    "for문과 while문이 각각 유리한 상황을 잘 판별하자."
   ],
   "id": "f843791046cf04da"
  },
  {
   "metadata": {},
   "cell_type": "markdown",
   "source": "# 5번",
   "id": "e313d4fba339781f"
  },
  {
   "metadata": {
    "ExecuteTime": {
     "end_time": "2025-04-07T08:40:44.214549Z",
     "start_time": "2025-04-07T08:40:44.205715Z"
    }
   },
   "cell_type": "code",
   "outputs": [
    {
     "name": "stdout",
     "output_type": "stream",
     "text": [
      "2 * 1 = 2\n",
      "2 * 2 = 4\n",
      "4 * 1 = 4\n",
      "4 * 2 = 8\n",
      "4 * 3 = 12\n",
      "4 * 4 = 16\n",
      "6 * 1 = 6\n",
      "6 * 2 = 12\n",
      "6 * 3 = 18\n",
      "6 * 4 = 24\n",
      "6 * 5 = 30\n",
      "6 * 6 = 36\n",
      "8 * 1 = 8\n",
      "8 * 2 = 16\n",
      "8 * 3 = 24\n",
      "8 * 4 = 32\n",
      "8 * 5 = 40\n",
      "8 * 6 = 48\n",
      "8 * 7 = 56\n",
      "8 * 8 = 64\n"
     ]
    }
   ],
   "execution_count": 16,
   "source": [
    "for i in range(1,10): # 1부터 9까지 i 반복\n",
    "    for j in range(1,i+1): # 1부터 i까지 j 반복\n",
    "        if i % 2 != 0: # i가 홀수이면\n",
    "            continue # 아래 출력문 건너뛰고 다음 반복\n",
    "        print(f\"{i} * {j} = {i*j}\") # 구구단 출력 (짝수 단만)"
   ],
   "id": "c7553e16968db5db"
  },
  {
   "metadata": {},
   "cell_type": "markdown",
   "source": [
    "continue를 사용하면 반복문은 계속해서 돌아가도록 유지하면서도 원하는 부분에서만 실행이 되지 않도록 할 수 있다.\n",
    "그냥 조건문을 이용할 수도 있지만 내 생각으로는 continue를 사용하는 것이 코드의 가독성이 더 좋다."
   ],
   "id": "e30476e7635787d7"
  },
  {
   "metadata": {},
   "cell_type": "markdown",
   "source": "# 6번",
   "id": "2ed721eb71bf02de"
  },
  {
   "metadata": {
    "ExecuteTime": {
     "end_time": "2025-04-07T08:51:06.107623Z",
     "start_time": "2025-04-07T08:51:02.157697Z"
    }
   },
   "cell_type": "code",
   "source": [
    "try: # 예외 처리\n",
    "    formula = list(input(\"수식을 입력하세요(예: 10 + 20): \").split()) # 수식 입력\n",
    "    a = int(formula[0]) # 첫 번째 값\n",
    "    b = int(formula[2]) # 두 번째 값\n",
    "    cmd = formula[1] # 연산자\n",
    "    match formula[1]: # 연산자에 따라 분기\n",
    "        case \"+\": # 덧셈일 경우\n",
    "            print(f\"{a} + {b} = {a+b}\") # 결과 출력\n",
    "        case \"-\": # 뺄셈일 경우\n",
    "            print(f\"{a} - {b} = {a-b}\") # 결과 출력\n",
    "        case \"*\": # 곱셈일 경우\n",
    "            print(f\"{a} * {b} = {a*b}\") # 결과 출력\n",
    "        case \"/\": # 나눗셈일 경우\n",
    "            print(f\"{a} / {b} = {a/b}\") # 결과 출력\n",
    "        case _: # 그 외의 연산자일 경우\n",
    "            raise Exception (\"지원하지 않는 연산자입니다.\") # 예외 발생\n",
    "except Exception as e: # 지원하지 않는 연산자 예외 처리\n",
    "    print(f\"오류: {e}\") # 예외 메시지 출력\n",
    "except ZeroDivisionError as e: # 0으로 나눌 경우 예외 처리\n",
    "    print(f\"오류: {e}\") # 예외 메시지 출력\n"
   ],
   "id": "5a11e66c802054b1",
   "outputs": [
    {
     "name": "stdout",
     "output_type": "stream",
     "text": [
      "오류: 지원하지 않는 연산자입니다.\n"
     ]
    }
   ],
   "execution_count": 32
  },
  {
   "metadata": {},
   "cell_type": "markdown",
   "source": [
    "match-case는 조건문으로도 구현 가능하지만 가독성이 더 좋다.\n",
    "아직 익숙하지 않지만 필요할 때 잘 사용하자."
   ],
   "id": "c8d7cb0ecb0cc751"
  }
 ],
 "metadata": {
  "kernelspec": {
   "display_name": "Python 3",
   "language": "python",
   "name": "python3"
  },
  "language_info": {
   "codemirror_mode": {
    "name": "ipython",
    "version": 2
   },
   "file_extension": ".py",
   "mimetype": "text/x-python",
   "name": "python",
   "nbconvert_exporter": "python",
   "pygments_lexer": "ipython2",
   "version": "2.7.6"
  }
 },
 "nbformat": 4,
 "nbformat_minor": 5
}
