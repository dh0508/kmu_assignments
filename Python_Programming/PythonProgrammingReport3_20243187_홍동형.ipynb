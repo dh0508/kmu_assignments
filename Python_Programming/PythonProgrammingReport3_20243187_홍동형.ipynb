{
 "cells": [
  {
   "metadata": {},
   "cell_type": "markdown",
   "source": [
    "# Python Programming 보고서 #3\n",
    "### 소프트웨어학부 20243187 홍동형"
   ],
   "id": "8b6e12708c8e20e8"
  },
  {
   "metadata": {},
   "cell_type": "markdown",
   "source": "## 1번",
   "id": "6e6c2fa58332c6f8"
  },
  {
   "metadata": {
    "ExecuteTime": {
     "end_time": "2025-04-27T01:13:24.436183Z",
     "start_time": "2025-04-27T01:13:10.046026Z"
    }
   },
   "cell_type": "code",
   "source": [
    "def SUM(kor, eng, math): # SUM함수 정의\n",
    "    return kor + eng + math # 모두 더한다\n",
    "\n",
    "def AVE(kor, eng, math): # AVE함수 정의\n",
    "    return SUM(kor, eng, math)/3 # SUM함수 결과를 3으로 나눈다\n",
    "\n",
    "print(\"세 과목의 점수를 입력하세요...\") # 입력 안내\n",
    "kor = int(input(\"국어 : \")) # 국어 성적 입력\n",
    "eng = int(input(\"영어 : \")) # 영어 성적 입력\n",
    "math = int(input(\"수학 : \")) # 수학 성적 입력\n",
    "\n",
    "print(f\"총점 : {SUM(kor, eng, math)}, 평균 : {AVE(kor, eng, math)}\") # 출력 형식에 맞춰 출력"
   ],
   "id": "8a2ac02fab2ab784",
   "outputs": [
    {
     "name": "stdout",
     "output_type": "stream",
     "text": [
      "세 과목의 점수를 입력하세요...\n",
      "총점 : 241, 평균 : 80.33333333333333\n"
     ]
    }
   ],
   "execution_count": 1
  },
  {
   "metadata": {},
   "cell_type": "markdown",
   "source": "함수를 사용해 코드를 작성하면 가독성이 높아지고 디버깅이 쉬워진다.",
   "id": "10193dd07031a832"
  },
  {
   "metadata": {},
   "cell_type": "markdown",
   "source": "# 2번\n",
   "id": "7d772b579cc1d60b"
  },
  {
   "metadata": {
    "ExecuteTime": {
     "end_time": "2025-04-27T01:17:29.745974Z",
     "start_time": "2025-04-27T01:17:09.263306Z"
    }
   },
   "cell_type": "code",
   "source": [
    "def MAXMIN(sList): # 리스트의 최대값과 최소값을 구하는 함수 정의\n",
    "    MAX = -float(\"inf\") # 가장 작은 값으로 초기화\n",
    "    MIN = float(\"inf\") # 가장 큰 값으로 초기화\n",
    "    for i in range(len(sList)): # 리스트를 돌면서\n",
    "        if sList[i] > MAX: # 현재 값이 MAX보다 크면\n",
    "            MAX = sList[i] # MAX를 현재 값으로 갱신\n",
    "        if sList[i] < MIN: # 현재 값이 MIN보다 작으면\n",
    "            MIN = sList[i] # MIN을 현재 값으로 갱신\n",
    "    return MAX, MIN # 최대값과 최소값 반환(튜플)\n",
    "\n",
    "print(\"임의의 정수를 입력하세요...\") # 입력 안내\n",
    "sList = [] # 입력값을 저장할 리스트\n",
    "try:\n",
    "    while True: # 무한 반복\n",
    "        sList.append(int(input(f\"sList[{cnt}]: \"))) # 입력받아 리스트에 추가\n",
    "except: # 입력이 중단되면\n",
    "    pass # 끝내기\n",
    "\n",
    "print(f\"최대값: {MAXMIN(sList)[0]}, 최소값: {MAXMIN(sList)[1]}\") # 출력 형식에 맞춰 출력"
   ],
   "id": "4adf2f17eb246d56",
   "outputs": [
    {
     "name": "stdout",
     "output_type": "stream",
     "text": [
      "임의의 정수를 입력하세요...\n",
      "최대값: 8, 최소값: 2\n"
     ]
    }
   ],
   "execution_count": 4
  },
  {
   "metadata": {},
   "cell_type": "markdown",
   "source": [
    "함수가 리턴하는 값은 하나이고 두개처럼 보이지만 튜플로 묶어 리턴한다.\n",
    "\n",
    "인덱스를 통해 잘 핸들링하자"
   ],
   "id": "957cf517d0fd968a"
  },
  {
   "metadata": {},
   "cell_type": "markdown",
   "source": "# 3번",
   "id": "f397e603e0983b29"
  },
  {
   "metadata": {
    "ExecuteTime": {
     "end_time": "2025-04-27T01:23:12.181555Z",
     "start_time": "2025-04-27T01:23:08.477979Z"
    }
   },
   "cell_type": "code",
   "source": [
    "# 비재귀적 용법\n",
    "import time\n",
    "\n",
    "def Fibo(num): # 피보나치 수열의 num번째 수를 구하는 함수\n",
    "    if num == 1 or num == 2: # 1번째와 2번째는 1\n",
    "        return 1\n",
    "    first = 1 # 첫 번째 수\n",
    "    second = 1 # 두 번째 수\n",
    "    for _ in range(3, num+1): # 3번째부터 num번째까지\n",
    "        first, second = second, first + second # 앞 두 수를 더해 갱신\n",
    "    return second # 결과 반환\n",
    "\n",
    "print(\"### 피보나치 수열 구하기 (비재귀적 용법)###\") # 출력 안내\n",
    "num = int(input(\"몇 번째 수열까지 출력할까요: \")) # 수열 길이 입력\n",
    "\n",
    "start_time = time.time() # 시작 시간 기록\n",
    "\n",
    "for i in range(1, num+1): # 1부터 num까지 반복\n",
    "    if i % 5: # 5의 배수가 아니면\n",
    "        print(f'{Fibo(i):8}', end=' ') #  같은 줄에 출력\n",
    "    else: # 5의 배수면\n",
    "        print(f'{Fibo(i):8}') # 줄 바꿔서 출력\n",
    "\n",
    "end_time = time.time() # 종료 시간 기록\n",
    "\n",
    "print(f\"\\n수행시간: {end_time - start_time}초\") # 수행 시간 출력\n"
   ],
   "id": "e3d2b26bd949bbe3",
   "outputs": [
    {
     "name": "stdout",
     "output_type": "stream",
     "text": [
      "### 피보나치 수열 구하기 ###\n",
      "       1        1        2        3        5\n",
      "       8       13       21       34       55\n",
      "      89      144      233      377      610\n",
      "     987     1597     2584     4181     6765\n",
      "   10946    17711    28657    46368    75025\n",
      "  121393   196418   317811   514229   832040\n",
      " 1346269  2178309  3524578  5702887  9227465\n",
      "\n",
      "수행시간: 0.0012149810791015625초\n"
     ]
    }
   ],
   "execution_count": 5
  },
  {
   "metadata": {
    "ExecuteTime": {
     "end_time": "2025-04-27T01:25:27.460122Z",
     "start_time": "2025-04-27T01:25:22.025161Z"
    }
   },
   "cell_type": "code",
   "source": [
    "# 재귀적 용법\n",
    "import time\n",
    "\n",
    "def Fibo(num): # 피보나치 수열의 num번째 수를 구하는 함수\n",
    "    if num == 1 or num == 2: # 1번째와 2번째는 1\n",
    "        return 1\n",
    "    return Fibo(num-1) + Fibo(num-2) # 앞 두 수를 더해서 반환\n",
    "\n",
    "print(\"### 피보나치 수열 구하기 (재귀적 용법) ###\") # 출력 안내\n",
    "num = int(input(\"몇 번째 수열까지 출력할까요: \")) # 몇 번째 수까지 구할지 입력\n",
    "\n",
    "start_time = time.time() # 시작 시간 기록\n",
    "\n",
    "for i in range(1, num+1): # 1부터 num까지 반복\n",
    "    if i % 5: # 5의 배수가 아니면\n",
    "        print(f'{Fibo(i):8}', end=' ') # 같은 줄에 출력\n",
    "    else: # 5의 배수면\n",
    "        print(f'{Fibo(i):8}') # 줄 바꿔서 출력\n",
    "\n",
    "end_time = time.time() # 종료 시간 기록\n",
    "print(f\"\\n수행시간: {end_time - start_time:.6f}초\") # 수행 시간 출력\n"
   ],
   "id": "b44f3fd6be837d83",
   "outputs": [
    {
     "name": "stdout",
     "output_type": "stream",
     "text": [
      "### 피보나치 수열 구하기 (재귀적 용법) ###\n",
      "       1        1        2        3        5\n",
      "       8       13       21       34       55\n",
      "      89      144      233      377      610\n",
      "     987     1597     2584     4181     6765\n",
      "   10946    17711    28657    46368    75025\n",
      "  121393   196418   317811   514229   832040\n",
      " 1346269  2178309  3524578  5702887  9227465\n",
      "\n",
      "수행시간: 3.314686초\n"
     ]
    }
   ],
   "execution_count": 6
  },
  {
   "metadata": {},
   "cell_type": "markdown",
   "source": [
    "시간적 측면에서 엄청난 차이를 보인다\n",
    "\n",
    "비재귀적 용법으로 사용된 동적프로그래밍은 큰 문제를 작은 여러문제로 나누어 답을 구하는 방식으로 불필요한 반복되는 연산을 줄여 시간을 단축 시키는 알고리즘이다."
   ],
   "id": "6459e6d2cdeb5139"
  },
  {
   "metadata": {},
   "cell_type": "markdown",
   "source": "# 4번\n",
   "id": "855a89f12aeddd96"
  },
  {
   "metadata": {
    "ExecuteTime": {
     "end_time": "2025-04-27T02:10:14.007404Z",
     "start_time": "2025-04-27T02:10:12.709356Z"
    }
   },
   "cell_type": "code",
   "source": [
    "def roundTwo(num): # 소수점 둘째 자리에서 반올림하는 함수 정의\n",
    "    s = str(num) # 숫자를 문자열로 변환\n",
    "    try:\n",
    "        ss = s.split('.')[0] + '.' + s.split('.')[1][0] # 소수점 첫째 자리까지 문자열로 구성\n",
    "        if int(s.split('.')[1][2]) >= 5: # 소수점 셋째 자리가 5 이상이면\n",
    "            ss += str(int(s.split('.')[1][1]) + 1) # 둘째 자리를 1 올려서 더하기\n",
    "        else: # 소수점 셋째 자리가 5 미만이면\n",
    "            ss += s.split('.')[1][1] # 둘째 자리 그대로 더하기\n",
    "        return ss # 결과 반환\n",
    "    except: # 소수점 이하가 없으면\n",
    "        return s # 원래 문자열 반환\n",
    "\n",
    "num = float(input()) # 사용자로부터 실수 입력 받기\n",
    "print(f\"반올림 결과 : {roundTwo(num)}\") # 반올림 결과 출력"
   ],
   "id": "8f2c4a89a97bb4a",
   "outputs": [
    {
     "name": "stdout",
     "output_type": "stream",
     "text": [
      "반올림 결과 : 10.0\n"
     ]
    }
   ],
   "execution_count": 17
  },
  {
   "metadata": {},
   "cell_type": "markdown",
   "source": [
    "입력받은 수를 수학적으로 곱하고 나눠서 판별해 반올림을 하는 방법도 있다.\n",
    "\n",
    "이러한 방법은 빠른 연산이 가능하지만 이런 짧은 경우에는 직관적으로 문자열로 변환하는게 이해가 쉽다."
   ],
   "id": "993b56c6077e2dd2"
  },
  {
   "metadata": {},
   "cell_type": "markdown",
   "source": "# 5번\n",
   "id": "fab62ad5381a7f0a"
  },
  {
   "metadata": {
    "ExecuteTime": {
     "end_time": "2025-04-27T02:16:40.942785Z",
     "start_time": "2025-04-27T02:16:32.518012Z"
    }
   },
   "cell_type": "code",
   "source": [
    "def validateBinary(num): # 이진수인지 확인하는 함수\n",
    "    for i in range(len(str_bn)): # 각 자리수를 검사\n",
    "        if str_bn[i] != \"0\" and str_bn[i] != \"1\": # 0과 1이 아니면\n",
    "            return False # 이진수가 아님\n",
    "    return True # 모두 0과 1이면 이진수\n",
    "\n",
    "def binaryToDecimal(num): # 이진수를 십진수로 변환하는 함수\n",
    "    decimal = 0 # 변환 결과 저장할 변수\n",
    "    powtwo = 0 # 2의 거듭제곱 지수\n",
    "    for i in range(len(str_bn)-1, -1, -1): # 최하위 비트부터 검사\n",
    "        if str_bn[i] == '1': # 1이면\n",
    "            decimal += pow(2, powtwo) # 2의 거듭제곱을 더함\n",
    "        powtwo += 1 # 지수 증가\n",
    "    return decimal # 결과 반환\n",
    "\n",
    "while True: # 올바른 입력 받을 때까지 반복\n",
    "    bn = int(input(\"이진수 입력(0 또는 1)\")) # 이진수 입력\n",
    "    str_bn = str(bn) # 입력값을 문자열로 변환\n",
    "    if validateBinary(bn): # 이진수인지 검사\n",
    "        print(f\"입력한 이진수 : {bn}\") # 입력값 출력\n",
    "        print(f\"변환된 십진수 : {binaryToDecimal(bn)}\") # 변환 결과 출력\n",
    "        break # 반복 종료\n",
    "    else: # 이진수가 아니면\n",
    "        print(\"이진수가 아닙니다.\\n 0 또는 1만 입력하세요!!!\") # 경고 메시지 출력"
   ],
   "id": "875f53b4fdb143f7",
   "outputs": [
    {
     "name": "stdout",
     "output_type": "stream",
     "text": [
      "이진수가 아닙니다.\n",
      "0 또는 1만 입력하세요!!!\n",
      "입력한 이진수 : 1010\n",
      "변환된 십진수 : 10\n"
     ]
    }
   ],
   "execution_count": 18
  },
  {
   "metadata": {},
   "cell_type": "markdown",
   "source": [
    "이진수는 0과1로만 이루어져있다는 사실로 판별\n",
    "\n",
    "최하위 비트부터 0이면 변화없고 1이면 2의 n승이라는 뜻\n",
    "\n",
    "올바른 입력을 받을 때까지 반복"
   ],
   "id": "a990385fda91aa"
  }
 ],
 "metadata": {
  "kernelspec": {
   "display_name": "Python 3",
   "language": "python",
   "name": "python3"
  },
  "language_info": {
   "codemirror_mode": {
    "name": "ipython",
    "version": 2
   },
   "file_extension": ".py",
   "mimetype": "text/x-python",
   "name": "python",
   "nbconvert_exporter": "python",
   "pygments_lexer": "ipython2",
   "version": "2.7.6"
  }
 },
 "nbformat": 4,
 "nbformat_minor": 5
}
