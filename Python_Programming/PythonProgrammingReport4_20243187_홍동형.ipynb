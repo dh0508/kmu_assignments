{
 "cells": [
  {
   "metadata": {},
   "cell_type": "markdown",
   "source": [
    "# Python Programming 보고서 #4\n",
    "### 소프트웨어학부 20243187 홍동형"
   ],
   "id": "f2575b09abdca1d5"
  },
  {
   "metadata": {},
   "cell_type": "markdown",
   "source": "## 1번",
   "id": "1beea3d0befe593d"
  },
  {
   "metadata": {
    "ExecuteTime": {
     "end_time": "2025-05-19T08:10:59.097966Z",
     "start_time": "2025-05-19T08:10:56.921006Z"
    }
   },
   "cell_type": "code",
   "source": [
    "import random\n",
    "\n",
    "n = int(input(\"로또 복권을 몇 장 구입 하실래요?\"))  # 복권 장수 입력 받기\n",
    "l = [[] for _ in range(n)]  # 구입한 복권 수만큼 빈 리스트 생성\n",
    "\n",
    "for i in range(n):  # 각 복권마다\n",
    "    while len(l[i]) != 7:  # 번호가 7개가 될 때까지 반복\n",
    "        a = random.randint(1, 45)  # 1~45 사이 난수 생성\n",
    "        if a not in l[i]:  # 중복되지 않는 번호면\n",
    "            l[i].append(a)  # 리스트에 추가\n",
    "    l[i].sort()  # 번호를 오름차순 정렬\n",
    "\n",
    "print(*l, sep='\\n')  # 복권 번호를 한 줄씩 출력"
   ],
   "id": "aac104be1e0cdd9b",
   "outputs": [
    {
     "name": "stdout",
     "output_type": "stream",
     "text": [
      "[1, 3, 19, 27, 28, 33, 43]\n",
      "[7, 14, 18, 20, 26, 30, 43]\n",
      "[3, 5, 7, 11, 26, 36, 42]\n",
      "[12, 20, 23, 26, 30, 38, 40]\n",
      "[1, 4, 16, 23, 24, 28, 31]\n"
     ]
    }
   ],
   "execution_count": 2
  },
  {
   "metadata": {},
   "cell_type": "markdown",
   "source": [
    "random 모듈을 사용하는 법을 알 수 있다.\n",
    "\n",
    "randint 말고 randrange(1, 46)를 사용해서도 풀 수 있다."
   ],
   "id": "be72f370dbd65405"
  },
  {
   "metadata": {},
   "cell_type": "markdown",
   "source": "## 2번",
   "id": "6bbc4dc60f64ecd7"
  },
  {
   "metadata": {
    "ExecuteTime": {
     "end_time": "2025-05-19T09:34:48.965109Z",
     "start_time": "2025-05-19T09:34:46.674991Z"
    }
   },
   "cell_type": "code",
   "source": [
    "il = []  # 입력 문자 리스트\n",
    "ol = []  # 출력 문자 리스트\n",
    "a = input(\"문자열 입력: \")  # 문자열 입력 받기\n",
    "\n",
    "for i in range(len(a)):  # 입력 문자열 각 문자마다\n",
    "    il.append(a[i])  # il 리스트에 문자 추가\n",
    "\n",
    "for i in range(len(il)):  # il 리스트 길이만큼 반복\n",
    "    ol.append(il.pop())  # il 리스트에서 뒤에서부터 문자 꺼내 ol에 추가\n",
    "\n",
    "print(f\"문자열 역순 출력: \", end='')  # 출력 안내문 (줄바꿈 없이)\n",
    "for i in range(len(ol)):  # ol 리스트 각 문자마다\n",
    "    print(ol[i], end='')  # 문자 출력 (줄바꿈 없이)"
   ],
   "id": "f327b3aa515b40b3",
   "outputs": [
    {
     "name": "stdout",
     "output_type": "stream",
     "text": [
      "문자열 역순 출력: ih"
     ]
    }
   ],
   "execution_count": 10
  },
  {
   "metadata": {},
   "cell_type": "markdown",
   "source": "파이썬의 list의 append와 pop을 이용해서 아주 간단하게 후입선출의 스택구조를 구현할 수 있다.",
   "id": "5dde6174d150816f"
  },
  {
   "metadata": {},
   "cell_type": "markdown",
   "source": "## 3번",
   "id": "dd8d3b8b7241b836"
  },
  {
   "metadata": {
    "ExecuteTime": {
     "end_time": "2025-05-19T09:58:05.269617Z",
     "start_time": "2025-05-19T09:58:03.151639Z"
    }
   },
   "cell_type": "code",
   "source": [
    "def insert():\n",
    "    while True:  # 무한 루프\n",
    "        print(\"[ 입력 모드 ]\")\n",
    "        name = input(\"이름(입력 종료: end): \")  # 사용자로부터 이름 입력 받음\n",
    "        if name == \"end\":  # 'end' 입력 시 루프 종료\n",
    "            break\n",
    "        phone = input(\"연락처: \")  # 이름이 'end'가 아닌 경우 연락처 입력\n",
    "        d[name] = phone  # 입력받은 이름과 전화번호를 딕셔너리에 저장\n",
    "\n",
    "def search():\n",
    "    while True:  # 무한 루프\n",
    "        print(\"[ 검색 모드 ]\")\n",
    "        name = input(\"이름(검색 종료: end): \")  # 사용자로부터 이름 입력 받음\n",
    "        if name == \"end\":  # 'end' 입력 시 루프 종료\n",
    "            break\n",
    "        if name in d:  # 입력한 이름이 딕셔너리에 존재하면\n",
    "            print(f\"{name}의 전화번호는 {d[name]}입니다.\")  # 해당 이름의 전화번호 출력\n",
    "        else:  # 이름이 존재하지 않으면\n",
    "            print(\"전화번호부에 존재하지 않는 이름입니다.\")  # 오류가 있다 출력\n",
    "\n",
    "def print_all():\n",
    "    print(\"##### 전화번호부 #####\")\n",
    "    for key, value in d.items():  # 딕셔너리의 각 키-값 쌍에 대해\n",
    "        print(f\"{key} : {value}\")  # 이름 : 전화번호 형식으로 출력\n",
    "\n",
    "def end():\n",
    "    global flag  # 외부 전역변수 flag\n",
    "    flag = False  # flag를 False로 설정하여 메인 루프 종료시키기\n",
    "\n",
    "d = {}  # 전화번호 저장용 딕셔너리\n",
    "flag = True  # 프로그램 실행 플래그\n",
    "\n",
    "while(flag):  # flag가 True인 동안 반복 실행\n",
    "    print(\"##### 전화번호부 ######\")  # 메인 메뉴 출력\n",
    "    print(\"1: 입력\")\n",
    "    print(\"2: 검색\")\n",
    "    print(\"3: 전체 출력\")\n",
    "    print(\"4: 프로그램 종료\")\n",
    "    menu = int(input(\"메뉴 선택:\"))  # 사용자로부터 메뉴 번호 입력 받음\n",
    "\n",
    "    match menu:  # 입력된 메뉴 번호에 따라 분기\n",
    "        case 1: insert()  # 입력 기능 실행\n",
    "        case 2: search()  # 검색 기능 실행\n",
    "        case 3: print_all()  # 전체 출력 기능 실행\n",
    "        case 4: end()  # 종료 기능 실행\n",
    "        case _: print(\"잘못된 메뉴입니다.\")  # 1~4 외의 숫자 입력 시 오류 메시지 출력"
   ],
   "id": "8f2a4222a27cb81d",
   "outputs": [
    {
     "name": "stdout",
     "output_type": "stream",
     "text": [
      "##### 전화번호부 ######\n",
      "1: 입력\n",
      "2: 겁색\n",
      "3: 전체 출력\n",
      "4: 프로그램 종료\n"
     ]
    }
   ],
   "execution_count": 2
  },
  {
   "metadata": {},
   "cell_type": "markdown",
   "source": [
    "검색시, 메뉴선택시 잘못된 값들이 입력될 겨우를 대비했다.\n",
    "\n",
    "함수를 이용해 코드를 짜면 가독성이 높아지고 디버깅이 수월해진다."
   ],
   "id": "686d353a706fa183"
  },
  {
   "metadata": {},
   "cell_type": "markdown",
   "source": "## 4번",
   "id": "97b5baa8db07ee39"
  },
  {
   "metadata": {
    "ExecuteTime": {
     "end_time": "2025-05-24T12:49:28.239233Z",
     "start_time": "2025-05-24T12:49:25.627711Z"
    }
   },
   "cell_type": "code",
   "source": [
    "class Cal:\n",
    "    def __init__(self, first=0, second=0):  # 생성자\n",
    "        self.__first = first  # 첫 번째\n",
    "        self.__second = second  # 두 번째\n",
    "\n",
    "    def getFirst(self):  # getter 첫 번째\n",
    "        return self.__first\n",
    "    def getSecond(self):  # getter 두 번째\n",
    "        return self.__second\n",
    "\n",
    "    def add(self):  # 덧셈\n",
    "        return self.getFirst() + self.getSecond()\n",
    "    def sub(self):  # 뺄셈\n",
    "        return self.getFirst() - self.getSecond()\n",
    "    def mul(self):  # 곱셈\n",
    "        return self.getFirst() * self.getSecond()\n",
    "    def div(self):  # 나눗셈\n",
    "        return self.getFirst() / self.getSecond()\n",
    "\n",
    "class NewCal(Cal):  # Cal 클래스 상속\n",
    "    def div(self):  # 나눗셈 오버라이딩 (0으로 나눌 경우 예외 처리 포함)\n",
    "        if self.getSecond() == 0:\n",
    "            return 0  # 0으로 나눌 경우 0 반환\n",
    "        else:\n",
    "            return super().div()  # 부모 클래스의 div() 호출\n",
    "\n",
    "    def pow(self):  # 거듭제곱\n",
    "        return self.getFirst() ** self.getSecond()\n",
    "\n",
    "first = int(input(\"first: \"))  # 첫 번째 숫자 입력\n",
    "second = int(input(\"second: \"))  # 두 번째 숫자 입력\n",
    "myCal = NewCal(first, second)  # NewCal 객체 생성\n",
    "print(f\"{myCal.getFirst()} + {myCal.getSecond()} = {myCal.add()}\")  # 덧셈 결과 출력\n",
    "print(f\"{myCal.getFirst()} - {myCal.getSecond()} = {myCal.sub()}\")  # 뺄셈 결과 출력\n",
    "print(f\"{myCal.getFirst()} * {myCal.getSecond()} = {myCal.mul()}\")  # 곱셈 결과 출력\n",
    "print(f\"{myCal.getFirst()} / {myCal.getSecond()} = {myCal.div()}\")  # 나눗셈 결과 출력\n",
    "print(f\"{myCal.getFirst()} ** {myCal.getSecond()} = {myCal.pow()}\")  # 거듭제곱 결과 출력\n"
   ],
   "id": "2fd5cacc48a38aa8",
   "outputs": [
    {
     "name": "stdout",
     "output_type": "stream",
     "text": [
      "100 + 3 = 103\n",
      "100 - 3 = 97\n",
      "100 * 3 = 300\n",
      "100 / 3 = 33.333333333333336\n",
      "100 ** 3 = 1000000\n"
     ]
    }
   ],
   "execution_count": 17
  },
  {
   "metadata": {},
   "cell_type": "markdown",
   "source": [
    "getter, setter 함수를 사용하면 클래스내의 변수를 private으로 만들어 정보를 은닉할 수 있다.\n",
    "\n",
    "클래스를 상속받으면 오버라이딩을 이용해서 부모 클래스의 메소드를 사용하거나 수정할 수 있다."
   ],
   "id": "169073df3cc7ee6b"
  },
  {
   "metadata": {},
   "cell_type": "markdown",
   "source": "## 5번",
   "id": "97c21733756cd841"
  },
  {
   "metadata": {
    "ExecuteTime": {
     "end_time": "2025-05-24T13:09:36.733407Z",
     "start_time": "2025-05-24T13:09:36.723982Z"
    }
   },
   "cell_type": "code",
   "source": [
    "class Person:\n",
    "    def __init__(self, name='', age=0):  # 생성자\n",
    "        self.__name = name\n",
    "        self.__age = age\n",
    "\n",
    "\n",
    "    def getName(self):  # getter 이름\n",
    "        return self.__name\n",
    "    def setName(self, name):  # setter 이름\n",
    "        self.__name = name\n",
    "\n",
    "    def getAge(self):  # getter 나이\n",
    "        return self.__age\n",
    "    def setAge(self, age):  # setter 나이\n",
    "        self.__age = age\n",
    "\n",
    "    def printPerson(self):  # 출력 이름 + 나이\n",
    "        print(f\"이름: {self.getName()}, 나이: {self.getAge()}\")\n",
    "\n",
    "\n",
    "\n",
    "class Student(Person):\n",
    "    def __init__(self, name='', age=0, aYear=0, gYear=0):  # 생성자\n",
    "        super().__init__(name, age)\n",
    "        self.__admissionYear = aYear\n",
    "        self.__graduationYear = gYear\n",
    "\n",
    "    def getAdmissionYear(self):  # getter 입학년도\n",
    "        return self.__admissionYear\n",
    "\n",
    "    def setAdmissionYear(self, admissionyear):  # setter 입학년도\n",
    "        self.__admissionYear = admissionyear\n",
    "\n",
    "    def getGraduationYear(self):  # getter 졸업년도\n",
    "        return self.__graduationYear\n",
    "\n",
    "    def setGraduationYear(self, graduationyear):  # setter 졸업년도\n",
    "        self.__graduationYear = graduationyear\n",
    "\n",
    "    def printStudent(self):  # 출력 이름 + 나이 + 입학/졸업년도\n",
    "        self.printPerson()\n",
    "        print(f\"입학 년도: {self.getAdmissionYear()}, 졸업년도: {self.getGraduationYear()}\")\n",
    "\n",
    "    def welcomeAdmission(self):  # 입학 축하 메시지\n",
    "        print(f\"{self.getName()}님 {self.getAdmissionYear()}년도 입학 축하 드립니다.\")\n",
    "\n",
    "    def welcomeGraduation(self):  # 졸업 축하 메시지\n",
    "        print(f\"{self.getName()}님 {self.getGraduationYear()}년도 졸업을 축하 드립니다.\")\n",
    "\n",
    "\n",
    "\n",
    "class Worker(Person):\n",
    "    def __init__(self, name='', age=0, time=0):  # 생성자\n",
    "        super().__init__(name, age)\n",
    "        self.__time = time\n",
    "\n",
    "    def getTime(self):  # getter 작업시간\n",
    "        return self.__time\n",
    "\n",
    "    def setTime(self, time):  # setter 작업시간\n",
    "        self.__time = time\n",
    "\n",
    "    def printWorker(self):  # 출력 이름 + 나이 + 작업시간\n",
    "        self.printPerson()\n",
    "        print(f\"작업 시간: {self.getTime()}\")\n",
    "\n",
    "\n",
    "\n",
    "class Albamon(Student, Worker):  # 학생+근로자\n",
    "    def __init__(self, name='', age=0, aYear=0, gYear=0, time=0):  # 생성자\n",
    "        Student.__init__(self, name, age, aYear, gYear)\n",
    "        Worker.__init__(self, name, age, time)\n",
    "\n",
    "    def printAlbamon(self):  # 출력 이름 + 나이 + 입학/졸업년도 + 작업시간\n",
    "        self.printPerson()\n",
    "        print(f\"입학 년도: {self.getAdmissionYear()}\")\n",
    "        print(f\"졸업 년도: {self.getGraduationYear()}\")\n",
    "        print(f\"작업 시간: {self.getTime()}\")\n",
    "\n",
    "\n",
    "\n",
    "# 객체 생성 및 테스트\n",
    "aPerson = Person(\"단군\", 100)  # Person 객체 생성\n",
    "bStudent = Student(\"이도\", 20, 2023, 2027)  # Student 객체 생성\n",
    "cWorker = Worker(\"이순신\", 50, 100)  # Worker 객체 생성\n",
    "dAlbamon = Albamon(\"철수\", 20, 2023, 2027, 120)  # Albamon 객체 생성\n",
    "\n",
    "aPerson.printPerson()  # Person 정보 출력\n",
    "print(aPerson.__dict__) # Person 정보 딕셔너리 출력\n",
    "\n",
    "bStudent.printStudent()  # Student 정보 출력\n",
    "print(bStudent.__dict__)  # Student 정보 딕셔너리 출력\n",
    "bStudent.welcomeAdmission()  # 입학 축하 메시지 출력\n",
    "bStudent.welcomeGraduation()  # 졸업 축하 메시지 출력\n",
    "\n",
    "cWorker.printWorker()  # Worker 정보 출력\n",
    "print(cWorker.__dict__)  # Worker 정보 딕셔너리 출력\n",
    "\n",
    "dAlbamon.printAlbamon()  # Albamon 정보 출력\n",
    "print(dAlbamon.__dict__)  # Albamon 정보 딕셔너리 출력\n",
    "\n"
   ],
   "id": "368adf72fcbe4ee7",
   "outputs": [
    {
     "name": "stdout",
     "output_type": "stream",
     "text": [
      "이름: 단군, 나이: 100\n",
      "{'_Person__name': '단군', '_Person__age': 100}\n",
      "이름: 이도, 나이: 20\n",
      "입학 년도: 2023, 졸업년도: 2027\n",
      "{'_Person__name': '이도', '_Person__age': 20, '_Student__admissionYear': 2023, '_Student__graduationYear': 2027}\n",
      "이도님 2023년도 입학 축하 드립니다.\n",
      "이도님 2027년도 졸업을 축하 드립니다.\n",
      "이름: 이순신, 나이: 50\n",
      "작업 시간: 100\n",
      "{'_Person__name': '이순신', '_Person__age': 50, '_Worker__time': 100}\n",
      "이름: 철수, 나이: 20\n",
      "입학 년도: 2023\n",
      "졸업 년도: 2027\n",
      "작업 시간: 120\n",
      "{'_Person__name': '철수', '_Person__age': 20, '_Worker__time': 120, '_Student__admissionYear': 2023, '_Student__graduationYear': 2027}\n"
     ]
    }
   ],
   "execution_count": 19
  },
  {
   "metadata": {},
   "cell_type": "markdown",
   "source": [
    "클래스를 상속받고 부모 클래스의 생성자함수를 이용하면 부모 클래스의 변수를 쉽게 가져올 수 있다.\n",
    "\n",
    "__dict__함수를 사용하면 클래스 내부의 변수를 볼 수 있다."
   ],
   "id": "c74458aa7e4eafdf"
  },
  {
   "metadata": {},
   "cell_type": "markdown",
   "source": "## 6번",
   "id": "2de8d518f68ab0b9"
  },
  {
   "metadata": {},
   "cell_type": "code",
   "outputs": [],
   "execution_count": null,
   "source": [
    "# cal.py 모듈 파일 생성\n",
    "with open(\"cal.py\", \"w\") as f:\n",
    "    f.write('''\n",
    "PI = 3.141592 # 원주율 상수\n",
    "\n",
    "class CircleArea:\n",
    "    def getCircleArea(self, r): # 원 넓이 구하는 함수\n",
    "        return PI * (r ** 2)\n",
    "\n",
    "def add(a, b):\n",
    "    return a + b\n",
    "def sub(a, b):\n",
    "    return a - b\n",
    "def mul(a, b):\n",
    "    return a * b\n",
    "def div(a, b):\n",
    "    return a / b\n",
    "\n",
    "print(f'cal.py: {__name__}')\n",
    "\n",
    "if __name__ == '__main__': # main일 경우 실행\n",
    "    print(add(1, 2))\n",
    "    print(sub(1, 2))\n",
    "    print(mul(1, 2))\n",
    "    print(div(1, 2))\n",
    "''')\n"
   ],
   "id": "57b69a96febd2326"
  },
  {
   "metadata": {},
   "cell_type": "markdown",
   "source": "노트북에서 모듈 만들기를 하기 위해 코드를 저장하는 방법을 이용했다.",
   "id": "4c5cdd3e11853325"
  },
  {
   "metadata": {
    "ExecuteTime": {
     "end_time": "2025-05-24T13:36:09.103560Z",
     "start_time": "2025-05-24T13:36:09.085568Z"
    }
   },
   "cell_type": "code",
   "source": [
    "# 모듈 전체 불러오기\n",
    "from cal import *\n",
    "\n",
    "print(f'index.py: {__name__}')\n",
    "\n",
    "if __name__ == '__main__': # main일 경우 실행\n",
    "    print(add(10, 3)) # cal 모듈의 함수들\n",
    "    print(sub(10, 3))\n",
    "    print(mul(10, 3))\n",
    "    print(div(10, 3))\n",
    "\n",
    "    print(PI)\n",
    "\n",
    "    ca = CircleArea() # cal 모듈의 클래스\n",
    "    print(ca.getCircleArea(10)) # cal 모듈의 클래스의 메소드\n"
   ],
   "id": "d14b955fef6d1561",
   "outputs": [
    {
     "name": "stdout",
     "output_type": "stream",
     "text": [
      "cal.py:cal\n",
      "index.py: __main__\n",
      "13\n",
      "7\n",
      "30\n",
      "3.3333333333333335\n",
      "3.141592\n",
      "314.1592\n"
     ]
    }
   ],
   "execution_count": 20
  },
  {
   "metadata": {},
   "cell_type": "markdown",
   "source": [
    ".py 파일은 모듈로 사용이 가능하다.\n",
    "\n",
    "모듈안의 변수, 함수, 클래스, 매소드등을 사용할 수 있다. from OO import OO을 이용하면 원하는 기능만을 가져올 수 있다."
   ],
   "id": "345d397c71965c55"
  }
 ],
 "metadata": {
  "kernelspec": {
   "display_name": "Python 3",
   "language": "python",
   "name": "python3"
  },
  "language_info": {
   "codemirror_mode": {
    "name": "ipython",
    "version": 2
   },
   "file_extension": ".py",
   "mimetype": "text/x-python",
   "name": "python",
   "nbconvert_exporter": "python",
   "pygments_lexer": "ipython2",
   "version": "2.7.6"
  }
 },
 "nbformat": 4,
 "nbformat_minor": 5
}
