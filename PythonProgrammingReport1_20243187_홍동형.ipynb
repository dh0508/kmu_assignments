{
 "cells": [
  {
   "metadata": {},
   "cell_type": "markdown",
   "source": [
    "# Python Programming 보고서 #1\n",
    "### 소프트웨어학부 20243187 홍동형"
   ],
   "id": "7c6af0fce378c499"
  },
  {
   "metadata": {},
   "cell_type": "markdown",
   "source": "## 1번",
   "id": "ced1651b13e4fdc6"
  },
  {
   "metadata": {
    "ExecuteTime": {
     "end_time": "2025-03-28T07:40:41.032380Z",
     "start_time": "2025-03-28T07:40:29.421249Z"
    }
   },
   "cell_type": "code",
   "source": [
    "print(\"오늘의 날짜를 입력하세요.\") #안내문구 출력\n",
    "y = int(input('년: ')) # 년 입력\n",
    "m = int(input('월: ')) # 월 입력\n",
    "d = int(input('일: ')) # 일 입력\n",
    "print(f\"입력된 날짜: {y}년 {m}월 {d}일\") # 형식에 맞춰 출력"
   ],
   "id": "3d31140d6493288b",
   "outputs": [
    {
     "name": "stdout",
     "output_type": "stream",
     "text": [
      "오늘의 날짜를 입력하세요.\n",
      "입력된 날짜: 2025년 12월 31일\n"
     ]
    }
   ],
   "execution_count": 12
  },
  {
   "metadata": {},
   "cell_type": "markdown",
   "source": "다양한 입력 처리도 추가 구현해 보자. ex)2025/12/31",
   "id": "68ca5e98fe0fd1b1"
  },
  {
   "metadata": {
    "ExecuteTime": {
     "end_time": "2025-03-28T06:21:39.143189Z",
     "start_time": "2025-03-28T06:21:30.444355Z"
    }
   },
   "cell_type": "code",
   "source": [
    "print(\"오늘의 날짜를 형식에 맞도록 입력하세요.(yyyy/mm/dd)\") # 안내문구 출력\n",
    "y,m,d = map(int, input().split('/')) # 다른 형태로 y,m,d 입력\n",
    "print(f\"입력된 날짜: {y}년 {m}월 {d}일\") # 형식에 맞춰 출력"
   ],
   "id": "14958354f4721527",
   "outputs": [
    {
     "name": "stdout",
     "output_type": "stream",
     "text": [
      "오늘의 날짜를 형식에 맞도록 입력하세요.(yyyy/mm/dd)\n",
      "입력된 날짜: 2024년 12월 31일\n"
     ]
    }
   ],
   "execution_count": 5
  },
  {
   "metadata": {},
   "cell_type": "markdown",
   "source": "split과 map함수를 이용할 수 있다 split함수 안의 인자를 '.'으로 바꿔 yyyy.mm.dd형태도 입력 받을 수 있다.",
   "id": "568fadee0ff684e1"
  },
  {
   "metadata": {},
   "cell_type": "markdown",
   "source": "## 2번",
   "id": "1671d167538ba249"
  },
  {
   "metadata": {
    "ExecuteTime": {
     "end_time": "2025-03-28T06:25:12.144939Z",
     "start_time": "2025-03-28T06:24:57.111344Z"
    }
   },
   "cell_type": "code",
   "source": [
    "l = list() #리스트 생성\n",
    "l.append(int(input(\"국어: \"))) # 국어 성적 입력\n",
    "l.append(int(input(\"영어: \"))) # 영어 성적 입력\n",
    "l.append(int(input(\"수학: \"))) # 수학 성적 입력\n",
    "print(f'총점: {sum(l)}, 평균: {sum(l)/len(l):.2f}') #형식에 맞춰 출력"
   ],
   "id": "c13734387dc0f7f0",
   "outputs": [
    {
     "name": "stdout",
     "output_type": "stream",
     "text": [
      "총점: 241, 평균: 80.33\n"
     ]
    }
   ],
   "execution_count": 7
  },
  {
   "metadata": {},
   "cell_type": "markdown",
   "source": [
    "파이썬에서는 정수간 나눗셈도 실수형으로 나올 수 있다.\n",
    "\n",
    "리스트 개념을 사용하면 sum, len등 유용한 함수를 많이 사용할 수 있다."
   ],
   "id": "276094eba8de40ee"
  },
  {
   "metadata": {},
   "cell_type": "markdown",
   "source": "## 3번",
   "id": "9017dcc071cef9a2"
  },
  {
   "metadata": {
    "ExecuteTime": {
     "end_time": "2025-03-28T07:44:01.744545Z",
     "start_time": "2025-03-28T07:43:49.976241Z"
    }
   },
   "cell_type": "code",
   "source": [
    "h = float(input(\"키를 입력하세요(m):\")) # 키 입력\n",
    "w = float(input(\"몸무게를 입력하세요(kg):\")) # 몸무게 입력\n",
    "print(f\"당신의 BMI는 {w / (h * h):.1f}입니다.\") # BMI 출력"
   ],
   "id": "8c41ed99f15620e4",
   "outputs": [
    {
     "name": "stdout",
     "output_type": "stream",
     "text": [
      "당신의 BMI는 21.2입니다.\n"
     ]
    }
   ],
   "execution_count": 13
  },
  {
   "metadata": {},
   "cell_type": "markdown",
   "source": [
    "수의 거듭제곱을 구하는 방법은 pow, \\*\\*를 사용할 수 있다.\n",
    "\n",
    "제곱을 구할때는 간단하게 N\\*N으로 나타내는것이 직관적일 수 있으나 연산순서를 주의하며 사용하자.\n"
   ],
   "id": "4729a7cf8f8eeaac"
  },
  {
   "metadata": {},
   "cell_type": "markdown",
   "source": "## 4번",
   "id": "cf00017e825d4736"
  },
  {
   "metadata": {
    "ExecuteTime": {
     "end_time": "2025-03-28T07:44:48.638410Z",
     "start_time": "2025-03-28T07:44:41.887660Z"
    }
   },
   "cell_type": "code",
   "source": [
    "i = int(input(\"계산하고자 하는 초를 입력하세요:\")) # 초 입력\n",
    "h = i // 3600 # 시간 계산\n",
    "m = i % 3600 // 60 # 남은 분 계산\n",
    "s = i % 3600 % 60 # 남은 초 계산\n",
    "print(f\"{i}초는 {h}시간, {m}분, {s}초 입니다.\") # 형식에 맞춰 출력"
   ],
   "id": "6e71d1d77428b652",
   "outputs": [
    {
     "name": "stdout",
     "output_type": "stream",
     "text": [
      "3661초는 1시간, 1분, 1초 입니다.\n"
     ]
    }
   ],
   "execution_count": 18
  },
  {
   "metadata": {},
   "cell_type": "markdown",
   "source": [
    "//를 이용하면 나눗셈의 결과가 정수로 나오도록 할 수 있다.\n",
    "\n",
    "int(a/b)와는 결과가 다를 수 있음에 주의하자."
   ],
   "id": "f0a54d81b3aaf2f3"
  },
  {
   "metadata": {},
   "cell_type": "markdown",
   "source": "## 5번",
   "id": "f269021033f27064"
  },
  {
   "metadata": {
    "ExecuteTime": {
     "end_time": "2025-03-28T07:10:30.676592Z",
     "start_time": "2025-03-28T07:10:24.844532Z"
    }
   },
   "cell_type": "code",
   "source": [
    "s = float(input(\"거리(km)를 입력하세요: \")) # 거리 입력\n",
    "v = float(input(\"속력(km/h)를 입력하세요: \")) # 속력 입력\n",
    "h = int(s / v) # 시간 계산\n",
    "m = int((s / v * 3600 - h*3600)/60) # 분 계산\n",
    "s = s / v * 3600 - h*3600 - m*60 # 초 계산\n",
    "print(f\"예상 소요 시간: {h}시간, {m}분, {s:.3f}초\") # 형식에 맞춰 출력"
   ],
   "id": "69917f00e15371b9",
   "outputs": [
    {
     "name": "stdout",
     "output_type": "stream",
     "text": [
      "예상 소요 시간: 0시간, 50분, 0.000초\n"
     ]
    }
   ],
   "execution_count": 9
  },
  {
   "metadata": {},
   "cell_type": "markdown",
   "source": "정의에 따라 h를 구했고, m과 s는 초로 환산해 각각 h와 m을 뺀 후 단위를 맞춰 구해줬다.\n",
   "id": "77a95e635ebdb9a9"
  },
  {
   "metadata": {},
   "cell_type": "markdown",
   "source": "## 6번",
   "id": "d5ba2c52584b2a5b"
  },
  {
   "metadata": {
    "ExecuteTime": {
     "end_time": "2025-03-28T07:47:00.377097Z",
     "start_time": "2025-03-28T07:47:00.368077Z"
    }
   },
   "cell_type": "code",
   "source": [
    "a = -10\n",
    "\n",
    "print(f'a = {a}, ~a = {~a}, ~a+1 = {~a+1}')\n",
    "\n",
    "print(f'a&3 = {a & 3}')\n",
    "print(f'a|3 = {a | 3}')\n",
    "print(f'a^3 = {a ^ 3}')\n",
    "\n",
    "print(f'a<<1 = {a << 1}')\n",
    "print(f'a<<2 = {a << 2}')\n",
    "print(f'a<<3 = {a << 3}')\n",
    "\n",
    "print(f'a>>1 = {a >> 1}')\n",
    "print(f'a>>2 = {a >> 2}')\n",
    "print(f'a>>3 = {a >> 3}')\n"
   ],
   "id": "2289640365b62bdc",
   "outputs": [
    {
     "name": "stdout",
     "output_type": "stream",
     "text": [
      "a = 10, ~a = -11, ~a+1 = -10\n",
      "a&3 = 2\n",
      "a|3 = 11\n",
      "a^3 = 9\n",
      "a<<1 = 20\n",
      "a<<2 = 40\n",
      "a<<3 = 80\n",
      "a>>1 = 5\n",
      "a>>2 = 2\n",
      "a>>3 = 1\n"
     ]
    }
   ],
   "execution_count": 20
  },
  {
   "metadata": {},
   "cell_type": "markdown",
   "source": [
    "~는 보수 연산이다.\n",
    "\n",
    "&는 논리곱(AND)이다. 1010 & 1001 = 1000 (앞의로의 예는 모두 비트단위로 표현된 것이다.)\n",
    "\n",
    "|는 논리합(OR)이다. 1010 | 1001 = 1011\n",
    "\n",
    "^는 배타적 논리합(XOR)이다. 1010 ^ 1001 = 0011\n",
    "\n",
    "<<는 좌 시프트 연산이다. 1010 << 1 = 10100 빈 뒷 칸에는 0이 들어온다.\n",
    "\n",
    "\\>\\>는 우 시프트 연산이다. 1010 >> 1 = 0101 빈 앞 칸에는 부호비트가 들어온다."
   ],
   "id": "d5dd794f217af50b"
  }
 ],
 "metadata": {
  "kernelspec": {
   "display_name": "Python 3",
   "language": "python",
   "name": "python3"
  },
  "language_info": {
   "codemirror_mode": {
    "name": "ipython",
    "version": 2
   },
   "file_extension": ".py",
   "mimetype": "text/x-python",
   "name": "python",
   "nbconvert_exporter": "python",
   "pygments_lexer": "ipython2",
   "version": "2.7.6"
  }
 },
 "nbformat": 4,
 "nbformat_minor": 5
}
